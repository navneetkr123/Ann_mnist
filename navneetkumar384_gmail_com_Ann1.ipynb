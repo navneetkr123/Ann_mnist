{
 "cells": [
  {
   "cell_type": "markdown",
   "metadata": {
    "colab_type": "text",
    "id": "UTJmsXnXQKbG"
   },
   "source": [
    "## Keras -- MLPs on MNIST"
   ]
  },
  {
   "cell_type": "raw",
   "metadata": {},
   "source": [
    "Refrences:\n",
    "Applied Ai course\n",
    "Google\n",
    "Stackoverflow"
   ]
  },
  {
   "cell_type": "code",
   "execution_count": 0,
   "metadata": {
    "colab": {},
    "colab_type": "code",
    "id": "2UILABPAQKbH"
   },
   "outputs": [],
   "source": [
    "# if you keras is not using tensorflow as backend set \"KERAS_BACKEND=tensorflow\" use this command\n",
    "from keras.utils import np_utils \n",
    "from keras.datasets import mnist \n",
    "import seaborn as sns\n",
    "from keras.initializers import RandomNormal"
   ]
  },
  {
   "cell_type": "code",
   "execution_count": 0,
   "metadata": {
    "colab": {},
    "colab_type": "code",
    "id": "lOO-TM_7QKbM"
   },
   "outputs": [],
   "source": [
    "%matplotlib notebook\n",
    "import matplotlib.pyplot as plt\n",
    "import numpy as np\n",
    "import time\n",
    "# https://gist.github.com/greydanus/f6eee59eaf1d90fcb3b534a25362cea4\n",
    "# https://stackoverflow.com/a/14434334\n",
    "# this function is used to update the plots for each epoch and error\n",
    "def plt_dynamic(x, vy, ty, ax, colors=['b']):\n",
    "    ax.plot(x, vy, 'b', label=\"Validation Loss\")\n",
    "    ax.plot(x, ty, 'r', label=\"Train Loss\")\n",
    "    plt.legend()\n",
    "    plt.grid()\n",
    "    fig.canvas.draw()"
   ]
  },
  {
   "cell_type": "code",
   "execution_count": 0,
   "metadata": {
    "colab": {},
    "colab_type": "code",
    "id": "ElAkfKnbSbzF"
   },
   "outputs": [],
   "source": [
    "%matplotlib inline"
   ]
  },
  {
   "cell_type": "code",
   "execution_count": 0,
   "metadata": {
    "colab": {},
    "colab_type": "code",
    "id": "TKmYKnibQKbQ"
   },
   "outputs": [],
   "source": [
    "# the data, shuffled and split between train and test sets \n",
    "(X_train, y_train), (X_test, y_test) = mnist.load_data()"
   ]
  },
  {
   "cell_type": "code",
   "execution_count": 39,
   "metadata": {
    "colab": {
     "base_uri": "https://localhost:8080/",
     "height": 51
    },
    "colab_type": "code",
    "id": "CCwnZae-QKbT",
    "outputId": "d28534f7-c7ab-4a36-ddf2-f073a9cfbd17"
   },
   "outputs": [
    {
     "name": "stdout",
     "output_type": "stream",
     "text": [
      "Number of training examples : 60000 and each image is of shape (28, 28)\n",
      "Number of training examples : 10000 and each image is of shape (28, 28)\n"
     ]
    }
   ],
   "source": [
    "print(\"Number of training examples :\", X_train.shape[0], \"and each image is of shape (%d, %d)\"%(X_train.shape[1], X_train.shape[2]))\n",
    "print(\"Number of training examples :\", X_test.shape[0], \"and each image is of shape (%d, %d)\"%(X_test.shape[1], X_test.shape[2]))"
   ]
  },
  {
   "cell_type": "code",
   "execution_count": 0,
   "metadata": {
    "colab": {},
    "colab_type": "code",
    "id": "BlotuCmoQKbW"
   },
   "outputs": [],
   "source": [
    "# if you observe the input shape its 2 dimensional vector\n",
    "# for each image we have a (28*28) vector\n",
    "# we will convert the (28*28) vector into single dimensional vector of 1 * 784 \n",
    "\n",
    "X_train = X_train.reshape(X_train.shape[0], X_train.shape[1]*X_train.shape[2]) \n",
    "X_test = X_test.reshape(X_test.shape[0], X_test.shape[1]*X_test.shape[2]) "
   ]
  },
  {
   "cell_type": "code",
   "execution_count": 41,
   "metadata": {
    "colab": {
     "base_uri": "https://localhost:8080/",
     "height": 51
    },
    "colab_type": "code",
    "id": "8JvpNJy4QKbY",
    "outputId": "047b04a3-4395-4f65-a210-8b7e287925ee"
   },
   "outputs": [
    {
     "name": "stdout",
     "output_type": "stream",
     "text": [
      "Number of training examples : 60000 and each image is of shape (784)\n",
      "Number of training examples : 10000 and each image is of shape (784)\n"
     ]
    }
   ],
   "source": [
    "# after converting the input images from 3d to 2d vectors\n",
    "\n",
    "print(\"Number of training examples :\", X_train.shape[0], \"and each image is of shape (%d)\"%(X_train.shape[1]))\n",
    "print(\"Number of training examples :\", X_test.shape[0], \"and each image is of shape (%d)\"%(X_test.shape[1]))"
   ]
  },
  {
   "cell_type": "code",
   "execution_count": 42,
   "metadata": {
    "colab": {
     "base_uri": "https://localhost:8080/",
     "height": 765
    },
    "colab_type": "code",
    "id": "qvuaHDk0QKbb",
    "outputId": "659c16d3-0f2d-45cb-ae20-3529670d1ba5"
   },
   "outputs": [
    {
     "name": "stdout",
     "output_type": "stream",
     "text": [
      "[  0   0   0   0   0   0   0   0   0   0   0   0   0   0   0   0   0   0\n",
      "   0   0   0   0   0   0   0   0   0   0   0   0   0   0   0   0   0   0\n",
      "   0   0   0   0   0   0   0   0   0   0   0   0   0   0   0   0   0   0\n",
      "   0   0   0   0   0   0   0   0   0   0   0   0   0   0   0   0   0   0\n",
      "   0   0   0   0   0   0   0   0   0   0   0   0   0   0   0   0   0   0\n",
      "   0   0   0   0   0   0   0   0   0   0   0   0   0   0   0   0   0   0\n",
      "   0   0   0   0   0   0   0   0   0   0   0   0   0   0   0   0   0   0\n",
      "   0   0   0   0   0   0   0   0   0   0   0   0   0   0   0   0   0   0\n",
      "   0   0   0   0   0   0   0   0   3  18  18  18 126 136 175  26 166 255\n",
      " 247 127   0   0   0   0   0   0   0   0   0   0   0   0  30  36  94 154\n",
      " 170 253 253 253 253 253 225 172 253 242 195  64   0   0   0   0   0   0\n",
      "   0   0   0   0   0  49 238 253 253 253 253 253 253 253 253 251  93  82\n",
      "  82  56  39   0   0   0   0   0   0   0   0   0   0   0   0  18 219 253\n",
      " 253 253 253 253 198 182 247 241   0   0   0   0   0   0   0   0   0   0\n",
      "   0   0   0   0   0   0   0   0  80 156 107 253 253 205  11   0  43 154\n",
      "   0   0   0   0   0   0   0   0   0   0   0   0   0   0   0   0   0   0\n",
      "   0  14   1 154 253  90   0   0   0   0   0   0   0   0   0   0   0   0\n",
      "   0   0   0   0   0   0   0   0   0   0   0   0   0 139 253 190   2   0\n",
      "   0   0   0   0   0   0   0   0   0   0   0   0   0   0   0   0   0   0\n",
      "   0   0   0   0   0  11 190 253  70   0   0   0   0   0   0   0   0   0\n",
      "   0   0   0   0   0   0   0   0   0   0   0   0   0   0   0   0  35 241\n",
      " 225 160 108   1   0   0   0   0   0   0   0   0   0   0   0   0   0   0\n",
      "   0   0   0   0   0   0   0   0   0  81 240 253 253 119  25   0   0   0\n",
      "   0   0   0   0   0   0   0   0   0   0   0   0   0   0   0   0   0   0\n",
      "   0   0  45 186 253 253 150  27   0   0   0   0   0   0   0   0   0   0\n",
      "   0   0   0   0   0   0   0   0   0   0   0   0   0  16  93 252 253 187\n",
      "   0   0   0   0   0   0   0   0   0   0   0   0   0   0   0   0   0   0\n",
      "   0   0   0   0   0   0   0 249 253 249  64   0   0   0   0   0   0   0\n",
      "   0   0   0   0   0   0   0   0   0   0   0   0   0   0  46 130 183 253\n",
      " 253 207   2   0   0   0   0   0   0   0   0   0   0   0   0   0   0   0\n",
      "   0   0   0   0  39 148 229 253 253 253 250 182   0   0   0   0   0   0\n",
      "   0   0   0   0   0   0   0   0   0   0   0   0  24 114 221 253 253 253\n",
      " 253 201  78   0   0   0   0   0   0   0   0   0   0   0   0   0   0   0\n",
      "   0   0  23  66 213 253 253 253 253 198  81   2   0   0   0   0   0   0\n",
      "   0   0   0   0   0   0   0   0   0   0  18 171 219 253 253 253 253 195\n",
      "  80   9   0   0   0   0   0   0   0   0   0   0   0   0   0   0   0   0\n",
      "  55 172 226 253 253 253 253 244 133  11   0   0   0   0   0   0   0   0\n",
      "   0   0   0   0   0   0   0   0   0   0 136 253 253 253 212 135 132  16\n",
      "   0   0   0   0   0   0   0   0   0   0   0   0   0   0   0   0   0   0\n",
      "   0   0   0   0   0   0   0   0   0   0   0   0   0   0   0   0   0   0\n",
      "   0   0   0   0   0   0   0   0   0   0   0   0   0   0   0   0   0   0\n",
      "   0   0   0   0   0   0   0   0   0   0   0   0   0   0   0   0   0   0\n",
      "   0   0   0   0   0   0   0   0   0   0   0   0   0   0   0   0   0   0\n",
      "   0   0   0   0   0   0   0   0   0   0]\n"
     ]
    }
   ],
   "source": [
    "# An example data point\n",
    "print(X_train[0])"
   ]
  },
  {
   "cell_type": "code",
   "execution_count": 0,
   "metadata": {
    "colab": {},
    "colab_type": "code",
    "id": "lfohtdKPQKbd"
   },
   "outputs": [],
   "source": [
    "# if we observe the above matrix each cell is having a value between 0-255\n",
    "# before we move to apply machine learning algorithms lets try to normalize the data\n",
    "# X => (X - Xmin)/(Xmax-Xmin) = X/255\n",
    "\n",
    "X_train = X_train/255\n",
    "X_test = X_test/255"
   ]
  },
  {
   "cell_type": "code",
   "execution_count": 44,
   "metadata": {
    "colab": {
     "base_uri": "https://localhost:8080/",
     "height": 2244
    },
    "colab_type": "code",
    "id": "4C-dmsXJQKbf",
    "outputId": "1c48b219-c0c6-41f5-adcf-ae1c2146421b"
   },
   "outputs": [
    {
     "name": "stdout",
     "output_type": "stream",
     "text": [
      "[0.         0.         0.         0.         0.         0.\n",
      " 0.         0.         0.         0.         0.         0.\n",
      " 0.         0.         0.         0.         0.         0.\n",
      " 0.         0.         0.         0.         0.         0.\n",
      " 0.         0.         0.         0.         0.         0.\n",
      " 0.         0.         0.         0.         0.         0.\n",
      " 0.         0.         0.         0.         0.         0.\n",
      " 0.         0.         0.         0.         0.         0.\n",
      " 0.         0.         0.         0.         0.         0.\n",
      " 0.         0.         0.         0.         0.         0.\n",
      " 0.         0.         0.         0.         0.         0.\n",
      " 0.         0.         0.         0.         0.         0.\n",
      " 0.         0.         0.         0.         0.         0.\n",
      " 0.         0.         0.         0.         0.         0.\n",
      " 0.         0.         0.         0.         0.         0.\n",
      " 0.         0.         0.         0.         0.         0.\n",
      " 0.         0.         0.         0.         0.         0.\n",
      " 0.         0.         0.         0.         0.         0.\n",
      " 0.         0.         0.         0.         0.         0.\n",
      " 0.         0.         0.         0.         0.         0.\n",
      " 0.         0.         0.         0.         0.         0.\n",
      " 0.         0.         0.         0.         0.         0.\n",
      " 0.         0.         0.         0.         0.         0.\n",
      " 0.         0.         0.         0.         0.         0.\n",
      " 0.         0.         0.         0.         0.         0.\n",
      " 0.         0.         0.01176471 0.07058824 0.07058824 0.07058824\n",
      " 0.49411765 0.53333333 0.68627451 0.10196078 0.65098039 1.\n",
      " 0.96862745 0.49803922 0.         0.         0.         0.\n",
      " 0.         0.         0.         0.         0.         0.\n",
      " 0.         0.         0.11764706 0.14117647 0.36862745 0.60392157\n",
      " 0.66666667 0.99215686 0.99215686 0.99215686 0.99215686 0.99215686\n",
      " 0.88235294 0.6745098  0.99215686 0.94901961 0.76470588 0.25098039\n",
      " 0.         0.         0.         0.         0.         0.\n",
      " 0.         0.         0.         0.         0.         0.19215686\n",
      " 0.93333333 0.99215686 0.99215686 0.99215686 0.99215686 0.99215686\n",
      " 0.99215686 0.99215686 0.99215686 0.98431373 0.36470588 0.32156863\n",
      " 0.32156863 0.21960784 0.15294118 0.         0.         0.\n",
      " 0.         0.         0.         0.         0.         0.\n",
      " 0.         0.         0.         0.07058824 0.85882353 0.99215686\n",
      " 0.99215686 0.99215686 0.99215686 0.99215686 0.77647059 0.71372549\n",
      " 0.96862745 0.94509804 0.         0.         0.         0.\n",
      " 0.         0.         0.         0.         0.         0.\n",
      " 0.         0.         0.         0.         0.         0.\n",
      " 0.         0.         0.31372549 0.61176471 0.41960784 0.99215686\n",
      " 0.99215686 0.80392157 0.04313725 0.         0.16862745 0.60392157\n",
      " 0.         0.         0.         0.         0.         0.\n",
      " 0.         0.         0.         0.         0.         0.\n",
      " 0.         0.         0.         0.         0.         0.\n",
      " 0.         0.05490196 0.00392157 0.60392157 0.99215686 0.35294118\n",
      " 0.         0.         0.         0.         0.         0.\n",
      " 0.         0.         0.         0.         0.         0.\n",
      " 0.         0.         0.         0.         0.         0.\n",
      " 0.         0.         0.         0.         0.         0.\n",
      " 0.         0.54509804 0.99215686 0.74509804 0.00784314 0.\n",
      " 0.         0.         0.         0.         0.         0.\n",
      " 0.         0.         0.         0.         0.         0.\n",
      " 0.         0.         0.         0.         0.         0.\n",
      " 0.         0.         0.         0.         0.         0.04313725\n",
      " 0.74509804 0.99215686 0.2745098  0.         0.         0.\n",
      " 0.         0.         0.         0.         0.         0.\n",
      " 0.         0.         0.         0.         0.         0.\n",
      " 0.         0.         0.         0.         0.         0.\n",
      " 0.         0.         0.         0.         0.1372549  0.94509804\n",
      " 0.88235294 0.62745098 0.42352941 0.00392157 0.         0.\n",
      " 0.         0.         0.         0.         0.         0.\n",
      " 0.         0.         0.         0.         0.         0.\n",
      " 0.         0.         0.         0.         0.         0.\n",
      " 0.         0.         0.         0.31764706 0.94117647 0.99215686\n",
      " 0.99215686 0.46666667 0.09803922 0.         0.         0.\n",
      " 0.         0.         0.         0.         0.         0.\n",
      " 0.         0.         0.         0.         0.         0.\n",
      " 0.         0.         0.         0.         0.         0.\n",
      " 0.         0.         0.17647059 0.72941176 0.99215686 0.99215686\n",
      " 0.58823529 0.10588235 0.         0.         0.         0.\n",
      " 0.         0.         0.         0.         0.         0.\n",
      " 0.         0.         0.         0.         0.         0.\n",
      " 0.         0.         0.         0.         0.         0.\n",
      " 0.         0.0627451  0.36470588 0.98823529 0.99215686 0.73333333\n",
      " 0.         0.         0.         0.         0.         0.\n",
      " 0.         0.         0.         0.         0.         0.\n",
      " 0.         0.         0.         0.         0.         0.\n",
      " 0.         0.         0.         0.         0.         0.\n",
      " 0.         0.97647059 0.99215686 0.97647059 0.25098039 0.\n",
      " 0.         0.         0.         0.         0.         0.\n",
      " 0.         0.         0.         0.         0.         0.\n",
      " 0.         0.         0.         0.         0.         0.\n",
      " 0.         0.         0.18039216 0.50980392 0.71764706 0.99215686\n",
      " 0.99215686 0.81176471 0.00784314 0.         0.         0.\n",
      " 0.         0.         0.         0.         0.         0.\n",
      " 0.         0.         0.         0.         0.         0.\n",
      " 0.         0.         0.         0.         0.15294118 0.58039216\n",
      " 0.89803922 0.99215686 0.99215686 0.99215686 0.98039216 0.71372549\n",
      " 0.         0.         0.         0.         0.         0.\n",
      " 0.         0.         0.         0.         0.         0.\n",
      " 0.         0.         0.         0.         0.         0.\n",
      " 0.09411765 0.44705882 0.86666667 0.99215686 0.99215686 0.99215686\n",
      " 0.99215686 0.78823529 0.30588235 0.         0.         0.\n",
      " 0.         0.         0.         0.         0.         0.\n",
      " 0.         0.         0.         0.         0.         0.\n",
      " 0.         0.         0.09019608 0.25882353 0.83529412 0.99215686\n",
      " 0.99215686 0.99215686 0.99215686 0.77647059 0.31764706 0.00784314\n",
      " 0.         0.         0.         0.         0.         0.\n",
      " 0.         0.         0.         0.         0.         0.\n",
      " 0.         0.         0.         0.         0.07058824 0.67058824\n",
      " 0.85882353 0.99215686 0.99215686 0.99215686 0.99215686 0.76470588\n",
      " 0.31372549 0.03529412 0.         0.         0.         0.\n",
      " 0.         0.         0.         0.         0.         0.\n",
      " 0.         0.         0.         0.         0.         0.\n",
      " 0.21568627 0.6745098  0.88627451 0.99215686 0.99215686 0.99215686\n",
      " 0.99215686 0.95686275 0.52156863 0.04313725 0.         0.\n",
      " 0.         0.         0.         0.         0.         0.\n",
      " 0.         0.         0.         0.         0.         0.\n",
      " 0.         0.         0.         0.         0.53333333 0.99215686\n",
      " 0.99215686 0.99215686 0.83137255 0.52941176 0.51764706 0.0627451\n",
      " 0.         0.         0.         0.         0.         0.\n",
      " 0.         0.         0.         0.         0.         0.\n",
      " 0.         0.         0.         0.         0.         0.\n",
      " 0.         0.         0.         0.         0.         0.\n",
      " 0.         0.         0.         0.         0.         0.\n",
      " 0.         0.         0.         0.         0.         0.\n",
      " 0.         0.         0.         0.         0.         0.\n",
      " 0.         0.         0.         0.         0.         0.\n",
      " 0.         0.         0.         0.         0.         0.\n",
      " 0.         0.         0.         0.         0.         0.\n",
      " 0.         0.         0.         0.         0.         0.\n",
      " 0.         0.         0.         0.         0.         0.\n",
      " 0.         0.         0.         0.         0.         0.\n",
      " 0.         0.         0.         0.         0.         0.\n",
      " 0.         0.         0.         0.         0.         0.\n",
      " 0.         0.         0.         0.         0.         0.\n",
      " 0.         0.         0.         0.        ]\n"
     ]
    }
   ],
   "source": [
    "# example data point after normlizing\n",
    "print(X_train[0])"
   ]
  },
  {
   "cell_type": "code",
   "execution_count": 45,
   "metadata": {
    "colab": {
     "base_uri": "https://localhost:8080/",
     "height": 51
    },
    "colab_type": "code",
    "id": "3Ruu-vXzQKbi",
    "outputId": "c39635cb-d97b-4822-bd09-ce51ec911ce4"
   },
   "outputs": [
    {
     "name": "stdout",
     "output_type": "stream",
     "text": [
      "Class label of first image : 5\n",
      "After converting the output into a vector :  [0. 0. 0. 0. 0. 1. 0. 0. 0. 0.]\n"
     ]
    }
   ],
   "source": [
    "# here we are having a class number for each image\n",
    "print(\"Class label of first image :\", y_train[0])\n",
    "\n",
    "# lets convert this into a 10 dimensional vector\n",
    "# ex: consider an image is 5 convert it into 5 => [0, 0, 0, 0, 0, 1, 0, 0, 0, 0]\n",
    "# this conversion needed for MLPs \n",
    "\n",
    "Y_train = np_utils.to_categorical(y_train, 10) \n",
    "Y_test = np_utils.to_categorical(y_test, 10)\n",
    "\n",
    "print(\"After converting the output into a vector : \",Y_train[0])"
   ]
  },
  {
   "cell_type": "markdown",
   "metadata": {
    "colab_type": "text",
    "id": "u0pWB6UyQKbk"
   },
   "source": [
    "<h2>  Softmax classifier  </h2>"
   ]
  },
  {
   "cell_type": "code",
   "execution_count": 0,
   "metadata": {
    "colab": {},
    "colab_type": "code",
    "id": "tLAGMubCQKbm"
   },
   "outputs": [],
   "source": [
    "# https://keras.io/getting-started/sequential-model-guide/\n",
    "\n",
    "# The Sequential model is a linear stack of layers.\n",
    "# you can create a Sequential model by passing a list of layer instances to the constructor:\n",
    "\n",
    "# model = Sequential([\n",
    "#     Dense(32, input_shape=(784,)),\n",
    "#     Activation('relu'),\n",
    "#     Dense(10),\n",
    "#     Activation('softmax'),\n",
    "# ])\n",
    "\n",
    "# You can also simply add layers via the .add() method:\n",
    "\n",
    "# model = Sequential()\n",
    "# model.add(Dense(32, input_dim=784))\n",
    "# model.add(Activation('relu'))\n",
    "\n",
    "###\n",
    "\n",
    "# https://keras.io/layers/core/\n",
    "\n",
    "# keras.layers.Dense(units, activation=None, use_bias=True, kernel_initializer='glorot_uniform', \n",
    "# bias_initializer='zeros', kernel_regularizer=None, bias_regularizer=None, activity_regularizer=None, \n",
    "# kernel_constraint=None, bias_constraint=None)\n",
    "\n",
    "# Dense implements the operation: output = activation(dot(input, kernel) + bias) where\n",
    "# activation is the element-wise activation function passed as the activation argument, \n",
    "# kernel is a weights matrix created by the layer, and \n",
    "# bias is a bias vector created by the layer (only applicable if use_bias is True).\n",
    "\n",
    "# output = activation(dot(input, kernel) + bias)  => y = activation(WT. X + b)\n",
    "\n",
    "####\n",
    "\n",
    "# https://keras.io/activations/\n",
    "\n",
    "# Activations can either be used through an Activation layer, or through the activation argument supported by all forward layers:\n",
    "\n",
    "# from keras.layers import Activation, Dense\n",
    "\n",
    "# model.add(Dense(64))\n",
    "# model.add(Activation('tanh'))\n",
    "\n",
    "# This is equivalent to:\n",
    "# model.add(Dense(64, activation='tanh'))\n",
    "\n",
    "# there are many activation functions ar available ex: tanh, relu, softmax\n",
    "\n",
    "\n",
    "from keras.models import Sequential \n",
    "from keras.layers import Dense, Activation \n"
   ]
  },
  {
   "cell_type": "code",
   "execution_count": 0,
   "metadata": {
    "colab": {},
    "colab_type": "code",
    "id": "I0s7jzhVQKbn"
   },
   "outputs": [],
   "source": [
    "# some model parameters\n",
    "\n",
    "output_dim = 10\n",
    "input_dim = X_train.shape[1]\n",
    "\n",
    "batch_size = 128 \n",
    "nb_epoch = 20"
   ]
  },
  {
   "cell_type": "markdown",
   "metadata": {
    "colab_type": "text",
    "id": "u9hbsqH7ObuR"
   },
   "source": [
    "# Assignment"
   ]
  },
  {
   "cell_type": "raw",
   "metadata": {
    "colab_type": "raw",
    "id": "6BkU4W93ObuS"
   },
   "source": [
    "BN + Relu + Dropout"
   ]
  },
  {
   "cell_type": "raw",
   "metadata": {
    "colab_type": "raw",
    "id": "eztoVOMOObuU"
   },
   "source": [
    "2 Layers"
   ]
  },
  {
   "cell_type": "code",
   "execution_count": 0,
   "metadata": {
    "colab": {},
    "colab_type": "code",
    "id": "H1MfQxOVObuV"
   },
   "outputs": [],
   "source": []
  },
  {
   "cell_type": "code",
   "execution_count": 48,
   "metadata": {
    "colab": {
     "base_uri": "https://localhost:8080/",
     "height": 374
    },
    "colab_type": "code",
    "id": "-8YXuaV2Obub",
    "outputId": "e092b590-6401-435a-d945-d65e524a8546"
   },
   "outputs": [
    {
     "name": "stdout",
     "output_type": "stream",
     "text": [
      "_________________________________________________________________\n",
      "Layer (type)                 Output Shape              Param #   \n",
      "=================================================================\n",
      "dense_28 (Dense)             (None, 332)               260620    \n",
      "_________________________________________________________________\n",
      "batch_normalization_11 (Batc (None, 332)               1328      \n",
      "_________________________________________________________________\n",
      "dropout_11 (Dropout)         (None, 332)               0         \n",
      "_________________________________________________________________\n",
      "dense_29 (Dense)             (None, 56)                18648     \n",
      "_________________________________________________________________\n",
      "batch_normalization_12 (Batc (None, 56)                224       \n",
      "_________________________________________________________________\n",
      "dropout_12 (Dropout)         (None, 56)                0         \n",
      "_________________________________________________________________\n",
      "dense_30 (Dense)             (None, 10)                570       \n",
      "=================================================================\n",
      "Total params: 281,390\n",
      "Trainable params: 280,614\n",
      "Non-trainable params: 776\n",
      "_________________________________________________________________\n"
     ]
    }
   ],
   "source": [
    "# https://stackoverflow.com/questions/34716454/where-do-i-call-the-batchnormalization-function-in-keras\n",
    "# Multilayer perceptron\n",
    "\n",
    "# https://intoli.com/blog/neural-network-initialization/ \n",
    "# If we sample weights from a normal distribution N(0,σ) we satisfy this condition with σ=√(2/(ni+ni+1). \n",
    "# h1 =>  σ=√(2/(ni+ni+1) = 0.039  => N(0,σ) = N(0,0.039)\n",
    "# h2 =>  σ=√(2/(ni+ni+1) = 0.055  => N(0,σ) = N(0,0.055)\n",
    "# h1 =>  σ=√(2/(ni+ni+1) = 0.120  => N(0,σ) = N(0,0.120)\n",
    "\n",
    "\n",
    "from keras.layers import Dropout\n",
    "# import BatchNormalization\n",
    "from keras.layers.normalization import BatchNormalization\n",
    "\n",
    "\n",
    "model_assign = Sequential()\n",
    "\n",
    "model_assign.add(Dense(332, activation='relu', input_shape=(input_dim,), kernel_initializer=RandomNormal(mean=0.0, stddev=0.042, seed=None)))\n",
    "model_assign.add(BatchNormalization())\n",
    "model_assign.add(Dropout(0.5))\n",
    "\n",
    "model_assign.add(Dense(56, activation='relu', kernel_initializer=RandomNormal(mean=0.0, stddev=0.071, seed=None)) )\n",
    "model_assign.add(BatchNormalization())\n",
    "model_assign.add(Dropout(0.5))\n",
    "\n",
    "model_assign.add(Dense(output_dim, activation='softmax'))\n",
    "\n",
    "\n",
    "model_assign.summary()"
   ]
  },
  {
   "cell_type": "code",
   "execution_count": 49,
   "metadata": {
    "colab": {
     "base_uri": "https://localhost:8080/",
     "height": 714
    },
    "colab_type": "code",
    "id": "mhpx7UFFObuh",
    "outputId": "af5cc93a-1a65-4fc2-8ffd-f46f770cc47d"
   },
   "outputs": [
    {
     "name": "stdout",
     "output_type": "stream",
     "text": [
      "Train on 60000 samples, validate on 10000 samples\n",
      "Epoch 1/20\n",
      "60000/60000 [==============================] - 4s 69us/step - loss: 0.5452 - acc: 0.8381 - val_loss: 0.1653 - val_acc: 0.9490\n",
      "Epoch 2/20\n",
      "60000/60000 [==============================] - 3s 55us/step - loss: 0.2592 - acc: 0.9250 - val_loss: 0.1235 - val_acc: 0.9626\n",
      "Epoch 3/20\n",
      "60000/60000 [==============================] - 3s 58us/step - loss: 0.2047 - acc: 0.9413 - val_loss: 0.1064 - val_acc: 0.9673\n",
      "Epoch 4/20\n",
      "60000/60000 [==============================] - 4s 59us/step - loss: 0.1713 - acc: 0.9503 - val_loss: 0.0921 - val_acc: 0.9712\n",
      "Epoch 5/20\n",
      "60000/60000 [==============================] - 3s 52us/step - loss: 0.1539 - acc: 0.9558 - val_loss: 0.0865 - val_acc: 0.9729\n",
      "Epoch 6/20\n",
      "60000/60000 [==============================] - 3s 49us/step - loss: 0.1410 - acc: 0.9595 - val_loss: 0.0819 - val_acc: 0.9758\n",
      "Epoch 7/20\n",
      "60000/60000 [==============================] - 3s 49us/step - loss: 0.1304 - acc: 0.9616 - val_loss: 0.0796 - val_acc: 0.9758\n",
      "Epoch 8/20\n",
      "60000/60000 [==============================] - 3s 49us/step - loss: 0.1250 - acc: 0.9634 - val_loss: 0.0748 - val_acc: 0.9765\n",
      "Epoch 9/20\n",
      "60000/60000 [==============================] - 3s 49us/step - loss: 0.1141 - acc: 0.9671 - val_loss: 0.0684 - val_acc: 0.9795\n",
      "Epoch 10/20\n",
      "60000/60000 [==============================] - 3s 49us/step - loss: 0.1057 - acc: 0.9690 - val_loss: 0.0688 - val_acc: 0.9785\n",
      "Epoch 11/20\n",
      "60000/60000 [==============================] - 3s 49us/step - loss: 0.1035 - acc: 0.9690 - val_loss: 0.0734 - val_acc: 0.9782\n",
      "Epoch 12/20\n",
      "60000/60000 [==============================] - 3s 50us/step - loss: 0.0963 - acc: 0.9716 - val_loss: 0.0689 - val_acc: 0.9797\n",
      "Epoch 13/20\n",
      "60000/60000 [==============================] - 3s 49us/step - loss: 0.0931 - acc: 0.9721 - val_loss: 0.0657 - val_acc: 0.9808\n",
      "Epoch 14/20\n",
      "60000/60000 [==============================] - 3s 49us/step - loss: 0.0923 - acc: 0.9722 - val_loss: 0.0647 - val_acc: 0.9798\n",
      "Epoch 15/20\n",
      "60000/60000 [==============================] - 3s 49us/step - loss: 0.0865 - acc: 0.9735 - val_loss: 0.0701 - val_acc: 0.9787\n",
      "Epoch 16/20\n",
      "60000/60000 [==============================] - 3s 49us/step - loss: 0.0876 - acc: 0.9734 - val_loss: 0.0689 - val_acc: 0.9802\n",
      "Epoch 17/20\n",
      "60000/60000 [==============================] - 3s 49us/step - loss: 0.0810 - acc: 0.9762 - val_loss: 0.0666 - val_acc: 0.9803\n",
      "Epoch 18/20\n",
      "60000/60000 [==============================] - 3s 49us/step - loss: 0.0786 - acc: 0.9764 - val_loss: 0.0690 - val_acc: 0.9808\n",
      "Epoch 19/20\n",
      "60000/60000 [==============================] - 3s 49us/step - loss: 0.0788 - acc: 0.9763 - val_loss: 0.0681 - val_acc: 0.9798\n",
      "Epoch 20/20\n",
      "60000/60000 [==============================] - 3s 49us/step - loss: 0.0744 - acc: 0.9776 - val_loss: 0.0661 - val_acc: 0.9812\n"
     ]
    }
   ],
   "source": [
    "model_assign.compile(optimizer='adam', loss='categorical_crossentropy', metrics=['accuracy'])\n",
    "\n",
    "history = model_assign.fit(X_train, Y_train, batch_size=batch_size, epochs=nb_epoch, verbose=1, validation_data=(X_test, Y_test))"
   ]
  },
  {
   "cell_type": "code",
   "execution_count": 50,
   "metadata": {
    "colab": {
     "base_uri": "https://localhost:8080/",
     "height": 317
    },
    "colab_type": "code",
    "id": "Zc6FrLS5Obun",
    "outputId": "51937bdd-418b-43ec-93f1-d12419806ffa"
   },
   "outputs": [
    {
     "name": "stdout",
     "output_type": "stream",
     "text": [
      "Test score: 0.06606815920227091\n",
      "Test accuracy: 0.9812\n"
     ]
    },
    {
     "data": {
      "image/png": "[encoded data removed]",
      "text/plain": [
       "<Figure size 432x288 with 1 Axes>"
      ]
     },
     "metadata": {
      "tags": []
     },
     "output_type": "display_data"
    }
   ],
   "source": [
    "score = model_assign.evaluate(X_test, Y_test, verbose=0) \n",
    "print('Test score:', score[0]) \n",
    "print('Test accuracy:', score[1])\n",
    "\n",
    "fig,ax = plt.subplots(1,1)\n",
    "ax.set_xlabel('epoch') ; ax.set_ylabel('Categorical Crossentropy Loss')\n",
    "\n",
    "# list of epoch numbers\n",
    "x = list(range(1,nb_epoch+1))\n",
    "\n",
    "# print(history.history.keys())\n",
    "# dict_keys(['val_loss', 'val_acc', 'loss', 'acc'])\n",
    "# history = model_drop.fit(X_train, Y_train, batch_size=batch_size, epochs=nb_epoch, verbose=1, validation_data=(X_test, Y_test))\n",
    "\n",
    "# we will get val_loss and val_acc only when you pass the paramter validation_data\n",
    "# val_loss : validation loss\n",
    "# val_acc : validation accuracy\n",
    "\n",
    "# loss : training loss\n",
    "# acc : train accuracy\n",
    "# for each key in histrory.histrory we will have a list of length equal to number of epochs\n",
    "\n",
    "vy = history.history['val_loss']\n",
    "ty = history.history['loss']\n",
    "plt_dynamic(x, vy, ty, ax)"
   ]
  },
  {
   "cell_type": "markdown",
   "metadata": {
    "colab_type": "raw",
    "id": "IDJq7rlWObus"
   },
   "source": [
    "3 Hidden layers"
   ]
  },
  {
   "cell_type": "code",
   "execution_count": 51,
   "metadata": {
    "colab": {
     "base_uri": "https://localhost:8080/",
     "height": 476
    },
    "colab_type": "code",
    "id": "wyagXa6qObut",
    "outputId": "95964b04-1fa1-446b-f6b2-a52d9c42bf72"
   },
   "outputs": [
    {
     "name": "stdout",
     "output_type": "stream",
     "text": [
      "_________________________________________________________________\n",
      "Layer (type)                 Output Shape              Param #   \n",
      "=================================================================\n",
      "dense_31 (Dense)             (None, 512)               401920    \n",
      "_________________________________________________________________\n",
      "batch_normalization_13 (Batc (None, 512)               2048      \n",
      "_________________________________________________________________\n",
      "dropout_13 (Dropout)         (None, 512)               0         \n",
      "_________________________________________________________________\n",
      "dense_32 (Dense)             (None, 128)               65664     \n",
      "_________________________________________________________________\n",
      "batch_normalization_14 (Batc (None, 128)               512       \n",
      "_________________________________________________________________\n",
      "dropout_14 (Dropout)         (None, 128)               0         \n",
      "_________________________________________________________________\n",
      "dense_33 (Dense)             (None, 64)                8256      \n",
      "_________________________________________________________________\n",
      "batch_normalization_15 (Batc (None, 64)                256       \n",
      "_________________________________________________________________\n",
      "dropout_15 (Dropout)         (None, 64)                0         \n",
      "_________________________________________________________________\n",
      "dense_34 (Dense)             (None, 10)                650       \n",
      "=================================================================\n",
      "Total params: 479,306\n",
      "Trainable params: 477,898\n",
      "Non-trainable params: 1,408\n",
      "_________________________________________________________________\n"
     ]
    }
   ],
   "source": [
    "# https://stackoverflow.com/questions/34716454/where-do-i-call-the-batchnormalization-function-in-keras\n",
    "# Multilayer perceptron\n",
    "\n",
    "# https://intoli.com/blog/neural-network-initialization/ \n",
    "# If we sample weights from a normal distribution N(0,σ) we satisfy this condition with σ=√(2/(ni+ni+1). \n",
    "# h1 =>  σ=√(2/(ni+ni+1) = 0.039  => N(0,σ) = N(0,0.039)\n",
    "# h2 =>  σ=√(2/(ni+ni+1) = 0.055  => N(0,σ) = N(0,0.055)\n",
    "# h1 =>  σ=√(2/(ni+ni+1) = 0.120  => N(0,σ) = N(0,0.120)\n",
    "\n",
    "\n",
    "from keras.layers import Dropout\n",
    "\n",
    "model_assign3 = Sequential()\n",
    "\n",
    "model_assign3.add(Dense(512, activation='relu', input_shape=(input_dim,), kernel_initializer=RandomNormal(mean=0.0, stddev=0.039, seed=None)))\n",
    "model_assign3.add(BatchNormalization())\n",
    "model_assign3.add(Dropout(0.5))\n",
    "\n",
    "model_assign3.add(Dense(128, activation='relu', input_shape=(input_dim,), kernel_initializer=RandomNormal(mean=0.0, stddev=0.056, seed=None)))\n",
    "model_assign3.add(BatchNormalization())\n",
    "model_assign3.add(Dropout(0.5))\n",
    "\n",
    "model_assign3.add(Dense(64, activation='relu', kernel_initializer=RandomNormal(mean=0.0, stddev=0.10, seed=None)) )\n",
    "model_assign3.add(BatchNormalization())\n",
    "model_assign3.add(Dropout(0.5))\n",
    "\n",
    "model_assign3.add(Dense(output_dim, activation='softmax'))\n",
    "\n",
    "\n",
    "model_assign3.summary()"
   ]
  },
  {
   "cell_type": "code",
   "execution_count": 52,
   "metadata": {
    "colab": {
     "base_uri": "https://localhost:8080/",
     "height": 714
    },
    "colab_type": "code",
    "id": "8tHFjfI5Obux",
    "outputId": "3fac506b-0598-409b-bed1-9790ef44c32e"
   },
   "outputs": [
    {
     "name": "stdout",
     "output_type": "stream",
     "text": [
      "Train on 60000 samples, validate on 10000 samples\n",
      "Epoch 1/20\n",
      "60000/60000 [==============================] - 5s 88us/step - loss: 0.6582 - acc: 0.8005 - val_loss: 0.1684 - val_acc: 0.9460\n",
      "Epoch 2/20\n",
      "60000/60000 [==============================] - 4s 70us/step - loss: 0.2803 - acc: 0.9203 - val_loss: 0.1247 - val_acc: 0.9613\n",
      "Epoch 3/20\n",
      "60000/60000 [==============================] - 4s 71us/step - loss: 0.2149 - acc: 0.9399 - val_loss: 0.1083 - val_acc: 0.9669\n",
      "Epoch 4/20\n",
      "60000/60000 [==============================] - 4s 66us/step - loss: 0.1845 - acc: 0.9487 - val_loss: 0.0929 - val_acc: 0.9711\n",
      "Epoch 5/20\n",
      "60000/60000 [==============================] - 4s 61us/step - loss: 0.1624 - acc: 0.9553 - val_loss: 0.0888 - val_acc: 0.9718\n",
      "Epoch 6/20\n",
      "60000/60000 [==============================] - 4s 61us/step - loss: 0.1463 - acc: 0.9585 - val_loss: 0.0820 - val_acc: 0.9760\n",
      "Epoch 7/20\n",
      "60000/60000 [==============================] - 4s 61us/step - loss: 0.1341 - acc: 0.9629 - val_loss: 0.0838 - val_acc: 0.9747\n",
      "Epoch 8/20\n",
      "60000/60000 [==============================] - 4s 61us/step - loss: 0.1268 - acc: 0.9642 - val_loss: 0.0781 - val_acc: 0.9755\n",
      "Epoch 9/20\n",
      "60000/60000 [==============================] - 4s 62us/step - loss: 0.1165 - acc: 0.9673 - val_loss: 0.0716 - val_acc: 0.9783\n",
      "Epoch 10/20\n",
      "60000/60000 [==============================] - 4s 62us/step - loss: 0.1107 - acc: 0.9688 - val_loss: 0.0700 - val_acc: 0.9801\n",
      "Epoch 11/20\n",
      "60000/60000 [==============================] - 4s 61us/step - loss: 0.1043 - acc: 0.9700 - val_loss: 0.0725 - val_acc: 0.9788\n",
      "Epoch 12/20\n",
      "60000/60000 [==============================] - 4s 61us/step - loss: 0.0998 - acc: 0.9714 - val_loss: 0.0661 - val_acc: 0.9808\n",
      "Epoch 13/20\n",
      "60000/60000 [==============================] - 4s 61us/step - loss: 0.0959 - acc: 0.9729 - val_loss: 0.0634 - val_acc: 0.9815\n",
      "Epoch 14/20\n",
      "60000/60000 [==============================] - 4s 61us/step - loss: 0.0918 - acc: 0.9741 - val_loss: 0.0617 - val_acc: 0.9819\n",
      "Epoch 15/20\n",
      "60000/60000 [==============================] - 4s 61us/step - loss: 0.0864 - acc: 0.9750 - val_loss: 0.0657 - val_acc: 0.9819\n",
      "Epoch 16/20\n",
      "60000/60000 [==============================] - 4s 61us/step - loss: 0.0845 - acc: 0.9763 - val_loss: 0.0633 - val_acc: 0.9822\n",
      "Epoch 17/20\n",
      "60000/60000 [==============================] - 4s 61us/step - loss: 0.0836 - acc: 0.9757 - val_loss: 0.0632 - val_acc: 0.9825\n",
      "Epoch 18/20\n",
      "60000/60000 [==============================] - 4s 61us/step - loss: 0.0791 - acc: 0.9767 - val_loss: 0.0659 - val_acc: 0.9826\n",
      "Epoch 19/20\n",
      "60000/60000 [==============================] - 4s 61us/step - loss: 0.0792 - acc: 0.9778 - val_loss: 0.0614 - val_acc: 0.9837\n",
      "Epoch 20/20\n",
      "60000/60000 [==============================] - 4s 61us/step - loss: 0.0755 - acc: 0.9780 - val_loss: 0.0672 - val_acc: 0.9813\n"
     ]
    }
   ],
   "source": [
    "model_assign3.compile(optimizer='adam', loss='categorical_crossentropy', metrics=['accuracy'])\n",
    "\n",
    "history = model_assign3.fit(X_train, Y_train, batch_size=batch_size, epochs=nb_epoch, verbose=1, validation_data=(X_test, Y_test))"
   ]
  },
  {
   "cell_type": "code",
   "execution_count": 53,
   "metadata": {
    "colab": {
     "base_uri": "https://localhost:8080/",
     "height": 317
    },
    "colab_type": "code",
    "id": "zIHWVW6LObu3",
    "outputId": "af7ce87f-32f0-4f02-c6e4-f9abf73b0302"
   },
   "outputs": [
    {
     "name": "stdout",
     "output_type": "stream",
     "text": [
      "Test score: 0.06720245788121829\n",
      "Test accuracy: 0.9813\n"
     ]
    },
    {
     "data": {
      "image/png": "[encoded data removed]",
      "text/plain": [
       "<Figure size 432x288 with 1 Axes>"
      ]
     },
     "metadata": {
      "tags": []
     },
     "output_type": "display_data"
    }
   ],
   "source": [
    "score = model_assign3.evaluate(X_test, Y_test, verbose=0) \n",
    "print('Test score:', score[0]) \n",
    "print('Test accuracy:', score[1])\n",
    "\n",
    "fig,ax = plt.subplots(1,1)\n",
    "ax.set_xlabel('epoch') ; ax.set_ylabel('Categorical Crossentropy Loss')\n",
    "\n",
    "# list of epoch numbers\n",
    "x = list(range(1,nb_epoch+1))\n",
    "\n",
    "# print(history.history.keys())\n",
    "# dict_keys(['val_loss', 'val_acc', 'loss', 'acc'])\n",
    "# history = model_drop.fit(X_train, Y_train, batch_size=batch_size, epochs=nb_epoch, verbose=1, validation_data=(X_test, Y_test))\n",
    "\n",
    "# we will get val_loss and val_acc only when you pass the paramter validation_data\n",
    "# val_loss : validation loss\n",
    "# val_acc : validation accuracy\n",
    "\n",
    "# loss : training loss\n",
    "# acc : train accuracy\n",
    "# for each key in histrory.histrory we will have a list of length equal to number of epochs\n",
    "\n",
    "vy = history.history['val_loss']\n",
    "ty = history.history['loss']\n",
    "plt_dynamic(x, vy, ty, ax)"
   ]
  },
  {
   "cell_type": "markdown",
   "metadata": {
    "colab_type": "raw",
    "id": "ZGNqbRK3Obu9"
   },
   "source": [
    "5 hidden layers"
   ]
  },
  {
   "cell_type": "code",
   "execution_count": 54,
   "metadata": {
    "colab": {
     "base_uri": "https://localhost:8080/",
     "height": 680
    },
    "colab_type": "code",
    "id": "csVKmL4MObu-",
    "outputId": "d6c81303-3e42-4d54-a588-3de5a021e8ce"
   },
   "outputs": [
    {
     "name": "stdout",
     "output_type": "stream",
     "text": [
      "_________________________________________________________________\n",
      "Layer (type)                 Output Shape              Param #   \n",
      "=================================================================\n",
      "dense_35 (Dense)             (None, 512)               401920    \n",
      "_________________________________________________________________\n",
      "batch_normalization_16 (Batc (None, 512)               2048      \n",
      "_________________________________________________________________\n",
      "dropout_16 (Dropout)         (None, 512)               0         \n",
      "_________________________________________________________________\n",
      "dense_36 (Dense)             (None, 256)               131328    \n",
      "_________________________________________________________________\n",
      "batch_normalization_17 (Batc (None, 256)               1024      \n",
      "_________________________________________________________________\n",
      "dropout_17 (Dropout)         (None, 256)               0         \n",
      "_________________________________________________________________\n",
      "dense_37 (Dense)             (None, 128)               32896     \n",
      "_________________________________________________________________\n",
      "batch_normalization_18 (Batc (None, 128)               512       \n",
      "_________________________________________________________________\n",
      "dropout_18 (Dropout)         (None, 128)               0         \n",
      "_________________________________________________________________\n",
      "dense_38 (Dense)             (None, 64)                8256      \n",
      "_________________________________________________________________\n",
      "batch_normalization_19 (Batc (None, 64)                256       \n",
      "_________________________________________________________________\n",
      "dropout_19 (Dropout)         (None, 64)                0         \n",
      "_________________________________________________________________\n",
      "dense_39 (Dense)             (None, 32)                2080      \n",
      "_________________________________________________________________\n",
      "batch_normalization_20 (Batc (None, 32)                128       \n",
      "_________________________________________________________________\n",
      "dropout_20 (Dropout)         (None, 32)                0         \n",
      "_________________________________________________________________\n",
      "dense_40 (Dense)             (None, 10)                330       \n",
      "=================================================================\n",
      "Total params: 580,778\n",
      "Trainable params: 578,794\n",
      "Non-trainable params: 1,984\n",
      "_________________________________________________________________\n"
     ]
    }
   ],
   "source": [
    "# https://stackoverflow.com/questions/34716454/where-do-i-call-the-batchnormalization-function-in-keras\n",
    "# Multilayer perceptron\n",
    "\n",
    "# https://intoli.com/blog/neural-network-initialization/ \n",
    "# If we sample weights from a normal distribution N(0,σ) we satisfy this condition with σ=√(2/(ni+ni+1). \n",
    "# h1 =>  σ=√(2/(ni+ni+1) = 0.039  => N(0,σ) = N(0,0.039)\n",
    "# h2 =>  σ=√(2/(ni+ni+1) = 0.055  => N(0,σ) = N(0,0.055)\n",
    "# h1 =>  σ=√(2/(ni+ni+1) = 0.120  => N(0,σ) = N(0,0.120)\n",
    "\n",
    "\n",
    "from keras.layers import Dropout\n",
    "\n",
    "model_assign5 = Sequential()\n",
    "\n",
    "model_assign5.add(Dense(512, activation='relu', input_shape=(input_dim,), kernel_initializer=RandomNormal(mean=0.0, stddev=0.039, seed=None)))\n",
    "model_assign5.add(BatchNormalization())\n",
    "model_assign5.add(Dropout(0.5))\n",
    "\n",
    "model_assign5.add(Dense(256, activation='relu', kernel_initializer=RandomNormal(mean=0.0, stddev=0.051, seed=None)) )\n",
    "model_assign5.add(BatchNormalization())\n",
    "model_assign5.add(Dropout(0.5))\n",
    "\n",
    "model_assign5.add(Dense(128, activation='relu', kernel_initializer=RandomNormal(mean=0.0, stddev=0.072, seed=None)) )\n",
    "model_assign5.add(BatchNormalization())\n",
    "model_assign5.add(Dropout(0.5))\n",
    "\n",
    "model_assign5.add(Dense(64, activation='relu', kernel_initializer=RandomNormal(mean=0.0, stddev=0.10, seed=None)) )\n",
    "model_assign5.add(BatchNormalization())\n",
    "model_assign5.add(Dropout(0.5))\n",
    "\n",
    "model_assign5.add(Dense(32, activation='relu', kernel_initializer=RandomNormal(mean=0.0, stddev=0.144, seed=None)) )\n",
    "model_assign5.add(BatchNormalization())\n",
    "model_assign5.add(Dropout(0.5))\n",
    "\n",
    "\n",
    "model_assign5.add(Dense(output_dim, activation='softmax'))\n",
    "\n",
    "\n",
    "model_assign5.summary()"
   ]
  },
  {
   "cell_type": "code",
   "execution_count": 55,
   "metadata": {
    "colab": {
     "base_uri": "https://localhost:8080/",
     "height": 714
    },
    "colab_type": "code",
    "id": "gWsqduv7ObvC",
    "outputId": "1de83de6-556d-4513-f8bc-0d596998a7fb"
   },
   "outputs": [
    {
     "name": "stdout",
     "output_type": "stream",
     "text": [
      "Train on 60000 samples, validate on 10000 samples\n",
      "Epoch 1/20\n",
      "60000/60000 [==============================] - 7s 124us/step - loss: 1.2889 - acc: 0.5871 - val_loss: 0.2800 - val_acc: 0.9286\n",
      "Epoch 2/20\n",
      "60000/60000 [==============================] - 6s 99us/step - loss: 0.5212 - acc: 0.8593 - val_loss: 0.1755 - val_acc: 0.9521\n",
      "Epoch 3/20\n",
      "60000/60000 [==============================] - 6s 93us/step - loss: 0.3722 - acc: 0.9079 - val_loss: 0.1519 - val_acc: 0.9609\n",
      "Epoch 4/20\n",
      "60000/60000 [==============================] - 5s 86us/step - loss: 0.3107 - acc: 0.9253 - val_loss: 0.1302 - val_acc: 0.9677\n",
      "Epoch 5/20\n",
      "60000/60000 [==============================] - 5s 86us/step - loss: 0.2724 - acc: 0.9364 - val_loss: 0.1224 - val_acc: 0.9663\n",
      "Epoch 6/20\n",
      "60000/60000 [==============================] - 5s 86us/step - loss: 0.2483 - acc: 0.9423 - val_loss: 0.1099 - val_acc: 0.9738\n",
      "Epoch 7/20\n",
      "60000/60000 [==============================] - 5s 86us/step - loss: 0.2243 - acc: 0.9488 - val_loss: 0.1181 - val_acc: 0.9716\n",
      "Epoch 8/20\n",
      "60000/60000 [==============================] - 5s 88us/step - loss: 0.2091 - acc: 0.9518 - val_loss: 0.1143 - val_acc: 0.9731\n",
      "Epoch 9/20\n",
      "60000/60000 [==============================] - 6s 96us/step - loss: 0.1986 - acc: 0.9546 - val_loss: 0.1015 - val_acc: 0.9741\n",
      "Epoch 10/20\n",
      "60000/60000 [==============================] - 5s 85us/step - loss: 0.1906 - acc: 0.9569 - val_loss: 0.0883 - val_acc: 0.9782\n",
      "Epoch 11/20\n",
      "60000/60000 [==============================] - 5s 85us/step - loss: 0.1798 - acc: 0.9594 - val_loss: 0.0958 - val_acc: 0.9770\n",
      "Epoch 12/20\n",
      "60000/60000 [==============================] - 5s 85us/step - loss: 0.1719 - acc: 0.9615 - val_loss: 0.0883 - val_acc: 0.9786\n",
      "Epoch 13/20\n",
      "60000/60000 [==============================] - 5s 86us/step - loss: 0.1658 - acc: 0.9629 - val_loss: 0.0887 - val_acc: 0.9792\n",
      "Epoch 14/20\n",
      "60000/60000 [==============================] - 5s 86us/step - loss: 0.1586 - acc: 0.9647 - val_loss: 0.0900 - val_acc: 0.9789\n",
      "Epoch 15/20\n",
      "60000/60000 [==============================] - 5s 86us/step - loss: 0.1491 - acc: 0.9662 - val_loss: 0.0851 - val_acc: 0.9799\n",
      "Epoch 16/20\n",
      "60000/60000 [==============================] - 5s 86us/step - loss: 0.1410 - acc: 0.9681 - val_loss: 0.0894 - val_acc: 0.9796\n",
      "Epoch 17/20\n",
      "60000/60000 [==============================] - 6s 99us/step - loss: 0.1473 - acc: 0.9672 - val_loss: 0.0963 - val_acc: 0.9793\n",
      "Epoch 18/20\n",
      "60000/60000 [==============================] - 6s 96us/step - loss: 0.1407 - acc: 0.9677 - val_loss: 0.0853 - val_acc: 0.9798\n",
      "Epoch 19/20\n",
      "60000/60000 [==============================] - 5s 86us/step - loss: 0.1344 - acc: 0.9695 - val_loss: 0.0755 - val_acc: 0.9823\n",
      "Epoch 20/20\n",
      "60000/60000 [==============================] - 5s 86us/step - loss: 0.1291 - acc: 0.9703 - val_loss: 0.0864 - val_acc: 0.9796\n"
     ]
    }
   ],
   "source": [
    "model_assign5.compile(optimizer='adam', loss='categorical_crossentropy', metrics=['accuracy'])\n",
    "\n",
    "history = model_assign5.fit(X_train, Y_train, batch_size=batch_size, epochs=nb_epoch, verbose=1, validation_data=(X_test, Y_test))"
   ]
  },
  {
   "cell_type": "code",
   "execution_count": 56,
   "metadata": {
    "colab": {
     "base_uri": "https://localhost:8080/",
     "height": 317
    },
    "colab_type": "code",
    "id": "tUIxzwCpObvF",
    "outputId": "c7d547c5-e8a9-499a-81a9-f37cbdc6553d"
   },
   "outputs": [
    {
     "name": "stdout",
     "output_type": "stream",
     "text": [
      "Test score: 0.08644420035893563\n",
      "Test accuracy: 0.9796\n"
     ]
    },
    {
     "data": {
      "image/png": "[encoded data removed]",
      "text/plain": [
       "<Figure size 432x288 with 1 Axes>"
      ]
     },
     "metadata": {
      "tags": []
     },
     "output_type": "display_data"
    }
   ],
   "source": [
    "score = model_assign5.evaluate(X_test, Y_test, verbose=0) \n",
    "print('Test score:', score[0]) \n",
    "print('Test accuracy:', score[1])\n",
    "\n",
    "fig,ax = plt.subplots(1,1)\n",
    "ax.set_xlabel('epoch') ; ax.set_ylabel('Categorical Crossentropy Loss')\n",
    "\n",
    "# list of epoch numbers\n",
    "x = list(range(1,nb_epoch+1))\n",
    "\n",
    "# print(history.history.keys())\n",
    "# dict_keys(['val_loss', 'val_acc', 'loss', 'acc'])\n",
    "# history = model_drop.fit(X_train, Y_train, batch_size=batch_size, epochs=nb_epoch, verbose=1, validation_data=(X_test, Y_test))\n",
    "\n",
    "# we will get val_loss and val_acc only when you pass the paramter validation_data\n",
    "# val_loss : validation loss\n",
    "# val_acc : validation accuracy\n",
    "\n",
    "# loss : training loss\n",
    "# acc : train accuracy\n",
    "# for each key in histrory.histrory we will have a list of length equal to number of epochs\n",
    "\n",
    "vy = history.history['val_loss']\n",
    "ty = history.history['loss']\n",
    "plt_dynamic(x, vy, ty, ax)"
   ]
  },
  {
   "cell_type": "markdown",
   "metadata": {
    "colab_type": "text",
    "id": "D5KZqvXdObvJ"
   },
   "source": [
    "# Without Dropout and BN"
   ]
  },
  {
   "cell_type": "markdown",
   "metadata": {
    "colab_type": "raw",
    "id": "Z_t6IErBObvK"
   },
   "source": [
    "2 layers"
   ]
  },
  {
   "cell_type": "code",
   "execution_count": 57,
   "metadata": {
    "colab": {
     "base_uri": "https://localhost:8080/",
     "height": 238
    },
    "colab_type": "code",
    "id": "wzDAZeHzObvL",
    "outputId": "293ad23d-08db-468f-a73b-d9be6681aa0a"
   },
   "outputs": [
    {
     "name": "stdout",
     "output_type": "stream",
     "text": [
      "_________________________________________________________________\n",
      "Layer (type)                 Output Shape              Param #   \n",
      "=================================================================\n",
      "dense_41 (Dense)             (None, 332)               260620    \n",
      "_________________________________________________________________\n",
      "dense_42 (Dense)             (None, 56)                18648     \n",
      "_________________________________________________________________\n",
      "dense_43 (Dense)             (None, 10)                570       \n",
      "=================================================================\n",
      "Total params: 279,838\n",
      "Trainable params: 279,838\n",
      "Non-trainable params: 0\n",
      "_________________________________________________________________\n"
     ]
    }
   ],
   "source": [
    "# https://stackoverflow.com/questions/34716454/where-do-i-call-the-batchnormalization-function-in-keras\n",
    "# Multilayer perceptron\n",
    "\n",
    "# https://intoli.com/blog/neural-network-initialization/ \n",
    "# If we sample weights from a normal distribution N(0,σ) we satisfy this condition with σ=√(2/(ni+ni+1). \n",
    "# h1 =>  σ=√(2/(ni+ni+1) = 0.039  => N(0,σ) = N(0,0.039)\n",
    "# h2 =>  σ=√(2/(ni+ni+1) = 0.055  => N(0,σ) = N(0,0.055)\n",
    "# h1 =>  σ=√(2/(ni+ni+1) = 0.120  => N(0,σ) = N(0,0.120)\n",
    "\n",
    "\n",
    "from keras.layers import Dropout\n",
    "\n",
    "model_assign = Sequential()\n",
    "\n",
    "model_assign.add(Dense(332, activation='relu', input_shape=(input_dim,), kernel_initializer=RandomNormal(mean=0.0, stddev=0.042, seed=None)))\n",
    "\n",
    "model_assign.add(Dense(56, activation='relu', kernel_initializer=RandomNormal(mean=0.0, stddev=0.071, seed=None)) )\n",
    "\n",
    "model_assign.add(Dense(output_dim, activation='softmax'))\n",
    "\n",
    "\n",
    "model_assign.summary()"
   ]
  },
  {
   "cell_type": "code",
   "execution_count": 58,
   "metadata": {
    "colab": {
     "base_uri": "https://localhost:8080/",
     "height": 714
    },
    "colab_type": "code",
    "id": "GTXaM1wcObvP",
    "outputId": "959a3091-1f06-4fba-e7a2-7fb365fc5cae"
   },
   "outputs": [
    {
     "name": "stdout",
     "output_type": "stream",
     "text": [
      "Train on 60000 samples, validate on 10000 samples\n",
      "Epoch 1/20\n",
      "60000/60000 [==============================] - 3s 55us/step - loss: 0.2737 - acc: 0.9219 - val_loss: 0.1348 - val_acc: 0.9589\n",
      "Epoch 2/20\n",
      "60000/60000 [==============================] - 2s 31us/step - loss: 0.1079 - acc: 0.9680 - val_loss: 0.0925 - val_acc: 0.9705\n",
      "Epoch 3/20\n",
      "60000/60000 [==============================] - 2s 31us/step - loss: 0.0686 - acc: 0.9786 - val_loss: 0.0763 - val_acc: 0.9774\n",
      "Epoch 4/20\n",
      "60000/60000 [==============================] - 2s 31us/step - loss: 0.0489 - acc: 0.9850 - val_loss: 0.0731 - val_acc: 0.9782\n",
      "Epoch 5/20\n",
      "60000/60000 [==============================] - 2s 31us/step - loss: 0.0376 - acc: 0.9880 - val_loss: 0.0758 - val_acc: 0.9771\n",
      "Epoch 6/20\n",
      "60000/60000 [==============================] - 2s 31us/step - loss: 0.0268 - acc: 0.9921 - val_loss: 0.0680 - val_acc: 0.9793\n",
      "Epoch 7/20\n",
      "60000/60000 [==============================] - 2s 31us/step - loss: 0.0215 - acc: 0.9934 - val_loss: 0.0743 - val_acc: 0.9778\n",
      "Epoch 8/20\n",
      "60000/60000 [==============================] - 2s 31us/step - loss: 0.0166 - acc: 0.9950 - val_loss: 0.0738 - val_acc: 0.9789\n",
      "Epoch 9/20\n",
      "60000/60000 [==============================] - 2s 31us/step - loss: 0.0151 - acc: 0.9951 - val_loss: 0.0911 - val_acc: 0.9767\n",
      "Epoch 10/20\n",
      "60000/60000 [==============================] - 2s 31us/step - loss: 0.0121 - acc: 0.9960 - val_loss: 0.0688 - val_acc: 0.9812\n",
      "Epoch 11/20\n",
      "60000/60000 [==============================] - 2s 31us/step - loss: 0.0123 - acc: 0.9961 - val_loss: 0.0843 - val_acc: 0.9808\n",
      "Epoch 12/20\n",
      "60000/60000 [==============================] - 2s 31us/step - loss: 0.0094 - acc: 0.9969 - val_loss: 0.0737 - val_acc: 0.9824\n",
      "Epoch 13/20\n",
      "60000/60000 [==============================] - 2s 31us/step - loss: 0.0104 - acc: 0.9966 - val_loss: 0.0800 - val_acc: 0.9809\n",
      "Epoch 14/20\n",
      "60000/60000 [==============================] - 2s 31us/step - loss: 0.0061 - acc: 0.9981 - val_loss: 0.0852 - val_acc: 0.9790\n",
      "Epoch 15/20\n",
      "60000/60000 [==============================] - 2s 31us/step - loss: 0.0110 - acc: 0.9961 - val_loss: 0.0917 - val_acc: 0.9781\n",
      "Epoch 16/20\n",
      "60000/60000 [==============================] - 2s 31us/step - loss: 0.0086 - acc: 0.9971 - val_loss: 0.0967 - val_acc: 0.9776\n",
      "Epoch 17/20\n",
      "60000/60000 [==============================] - 2s 31us/step - loss: 0.0091 - acc: 0.9970 - val_loss: 0.0804 - val_acc: 0.9811\n",
      "Epoch 18/20\n",
      "60000/60000 [==============================] - 2s 31us/step - loss: 0.0069 - acc: 0.9974 - val_loss: 0.0824 - val_acc: 0.9802\n",
      "Epoch 19/20\n",
      "60000/60000 [==============================] - 2s 31us/step - loss: 0.0025 - acc: 0.9993 - val_loss: 0.0865 - val_acc: 0.9822\n",
      "Epoch 20/20\n",
      "60000/60000 [==============================] - 2s 31us/step - loss: 0.0028 - acc: 0.9991 - val_loss: 0.1038 - val_acc: 0.9789\n"
     ]
    }
   ],
   "source": [
    "model_assign.compile(optimizer='adam', loss='categorical_crossentropy', metrics=['accuracy'])\n",
    "\n",
    "history = model_assign.fit(X_train, Y_train, batch_size=batch_size, epochs=nb_epoch, verbose=1, validation_data=(X_test, Y_test))"
   ]
  },
  {
   "cell_type": "code",
   "execution_count": 59,
   "metadata": {
    "colab": {
     "base_uri": "https://localhost:8080/",
     "height": 317
    },
    "colab_type": "code",
    "id": "QhTE1v7kObvS",
    "outputId": "01d5c397-7ff5-4ada-f7fb-9c810f3365be"
   },
   "outputs": [
    {
     "name": "stdout",
     "output_type": "stream",
     "text": [
      "Test score: 0.1037857443765759\n",
      "Test accuracy: 0.9789\n"
     ]
    },
    {
     "data": {
      "image/png": "[encoded data removed]",
      "text/plain": [
       "<Figure size 432x288 with 1 Axes>"
      ]
     },
     "metadata": {
      "tags": []
     },
     "output_type": "display_data"
    }
   ],
   "source": [
    "score = model_assign.evaluate(X_test, Y_test, verbose=0) \n",
    "print('Test score:', score[0]) \n",
    "print('Test accuracy:', score[1])\n",
    "\n",
    "fig,ax = plt.subplots(1,1)\n",
    "ax.set_xlabel('epoch') ; ax.set_ylabel('Categorical Crossentropy Loss')\n",
    "\n",
    "# list of epoch numbers\n",
    "x = list(range(1,nb_epoch+1))\n",
    "\n",
    "# print(history.history.keys())\n",
    "# dict_keys(['val_loss', 'val_acc', 'loss', 'acc'])\n",
    "# history = model_drop.fit(X_train, Y_train, batch_size=batch_size, epochs=nb_epoch, verbose=1, validation_data=(X_test, Y_test))\n",
    "\n",
    "# we will get val_loss and val_acc only when you pass the paramter validation_data\n",
    "# val_loss : validation loss\n",
    "# val_acc : validation accuracy\n",
    "\n",
    "# loss : training loss\n",
    "# acc : train accuracy\n",
    "# for each key in histrory.histrory we will have a list of length equal to number of epochs\n",
    "\n",
    "vy = history.history['val_loss']\n",
    "ty = history.history['loss']\n",
    "plt_dynamic(x, vy, ty, ax)"
   ]
  },
  {
   "cell_type": "markdown",
   "metadata": {
    "colab_type": "raw",
    "id": "eD_3WlmFObvX"
   },
   "source": [
    "3 Layers"
   ]
  },
  {
   "cell_type": "code",
   "execution_count": 60,
   "metadata": {
    "colab": {
     "base_uri": "https://localhost:8080/",
     "height": 272
    },
    "colab_type": "code",
    "id": "dlQw71znObvY",
    "outputId": "30057b63-f79b-4ac0-caca-c22d78b21e81"
   },
   "outputs": [
    {
     "name": "stdout",
     "output_type": "stream",
     "text": [
      "_________________________________________________________________\n",
      "Layer (type)                 Output Shape              Param #   \n",
      "=================================================================\n",
      "dense_44 (Dense)             (None, 512)               401920    \n",
      "_________________________________________________________________\n",
      "dense_45 (Dense)             (None, 128)               65664     \n",
      "_________________________________________________________________\n",
      "dense_46 (Dense)             (None, 64)                8256      \n",
      "_________________________________________________________________\n",
      "dense_47 (Dense)             (None, 10)                650       \n",
      "=================================================================\n",
      "Total params: 476,490\n",
      "Trainable params: 476,490\n",
      "Non-trainable params: 0\n",
      "_________________________________________________________________\n"
     ]
    }
   ],
   "source": [
    "# https://stackoverflow.com/questions/34716454/where-do-i-call-the-batchnormalization-function-in-keras\n",
    "# Multilayer perceptron\n",
    "\n",
    "# https://intoli.com/blog/neural-network-initialization/ \n",
    "# If we sample weights from a normal distribution N(0,σ) we satisfy this condition with σ=√(2/(ni+ni+1). \n",
    "# h1 =>  σ=√(2/(ni+ni+1) = 0.039  => N(0,σ) = N(0,0.039)\n",
    "# h2 =>  σ=√(2/(ni+ni+1) = 0.055  => N(0,σ) = N(0,0.055)\n",
    "# h1 =>  σ=√(2/(ni+ni+1) = 0.120  => N(0,σ) = N(0,0.120)\n",
    "\n",
    "\n",
    "from keras.layers import Dropout\n",
    "\n",
    "model_assign3 = Sequential()\n",
    "\n",
    "model_assign3.add(Dense(512, activation='relu', input_shape=(input_dim,), kernel_initializer=RandomNormal(mean=0.0, stddev=0.039, seed=None)))\n",
    "\n",
    "model_assign3.add(Dense(128, activation='relu', input_shape=(input_dim,), kernel_initializer=RandomNormal(mean=0.0, stddev=0.056, seed=None)))\n",
    "\n",
    "model_assign3.add(Dense(64, activation='relu', kernel_initializer=RandomNormal(mean=0.0, stddev=0.10, seed=None)) )\n",
    "\n",
    "model_assign3.add(Dense(output_dim, activation='softmax'))\n",
    "\n",
    "\n",
    "model_assign3.summary()"
   ]
  },
  {
   "cell_type": "code",
   "execution_count": 61,
   "metadata": {
    "colab": {
     "base_uri": "https://localhost:8080/",
     "height": 714
    },
    "colab_type": "code",
    "id": "E7pYiv1xObvc",
    "outputId": "cbb4bea9-b516-4d1a-f381-083d6ea4ea8c"
   },
   "outputs": [
    {
     "name": "stdout",
     "output_type": "stream",
     "text": [
      "Train on 60000 samples, validate on 10000 samples\n",
      "Epoch 1/20\n",
      "60000/60000 [==============================] - 4s 61us/step - loss: 0.2583 - acc: 0.9237 - val_loss: 0.1316 - val_acc: 0.9590\n",
      "Epoch 2/20\n",
      "60000/60000 [==============================] - 2s 34us/step - loss: 0.0916 - acc: 0.9723 - val_loss: 0.0840 - val_acc: 0.9730\n",
      "Epoch 3/20\n",
      "60000/60000 [==============================] - 2s 34us/step - loss: 0.0591 - acc: 0.9815 - val_loss: 0.0760 - val_acc: 0.9766\n",
      "Epoch 4/20\n",
      "60000/60000 [==============================] - 2s 34us/step - loss: 0.0409 - acc: 0.9874 - val_loss: 0.0777 - val_acc: 0.9755\n",
      "Epoch 5/20\n",
      "60000/60000 [==============================] - 2s 34us/step - loss: 0.0329 - acc: 0.9889 - val_loss: 0.0730 - val_acc: 0.9784\n",
      "Epoch 6/20\n",
      "60000/60000 [==============================] - 2s 34us/step - loss: 0.0249 - acc: 0.9918 - val_loss: 0.0742 - val_acc: 0.9788\n",
      "Epoch 7/20\n",
      "60000/60000 [==============================] - 2s 34us/step - loss: 0.0208 - acc: 0.9930 - val_loss: 0.0672 - val_acc: 0.9799\n",
      "Epoch 8/20\n",
      "60000/60000 [==============================] - 2s 35us/step - loss: 0.0164 - acc: 0.9945 - val_loss: 0.0803 - val_acc: 0.9793\n",
      "Epoch 9/20\n",
      "60000/60000 [==============================] - 2s 39us/step - loss: 0.0169 - acc: 0.9944 - val_loss: 0.0854 - val_acc: 0.9787\n",
      "Epoch 10/20\n",
      "60000/60000 [==============================] - 2s 39us/step - loss: 0.0185 - acc: 0.9939 - val_loss: 0.0790 - val_acc: 0.9795\n",
      "Epoch 11/20\n",
      "60000/60000 [==============================] - 2s 40us/step - loss: 0.0117 - acc: 0.9960 - val_loss: 0.0717 - val_acc: 0.9828\n",
      "Epoch 12/20\n",
      "60000/60000 [==============================] - 2s 40us/step - loss: 0.0110 - acc: 0.9964 - val_loss: 0.0912 - val_acc: 0.9795\n",
      "Epoch 13/20\n",
      "60000/60000 [==============================] - 2s 40us/step - loss: 0.0104 - acc: 0.9965 - val_loss: 0.0808 - val_acc: 0.9820\n",
      "Epoch 14/20\n",
      "60000/60000 [==============================] - 2s 41us/step - loss: 0.0096 - acc: 0.9968 - val_loss: 0.0994 - val_acc: 0.9770\n",
      "Epoch 15/20\n",
      "60000/60000 [==============================] - 2s 35us/step - loss: 0.0112 - acc: 0.9962 - val_loss: 0.0861 - val_acc: 0.9808\n",
      "Epoch 16/20\n",
      "60000/60000 [==============================] - 2s 34us/step - loss: 0.0131 - acc: 0.9956 - val_loss: 0.0843 - val_acc: 0.9802\n",
      "Epoch 17/20\n",
      "60000/60000 [==============================] - 2s 34us/step - loss: 0.0081 - acc: 0.9976 - val_loss: 0.0912 - val_acc: 0.9802\n",
      "Epoch 18/20\n",
      "60000/60000 [==============================] - 2s 34us/step - loss: 0.0077 - acc: 0.9974 - val_loss: 0.0811 - val_acc: 0.9831\n",
      "Epoch 19/20\n",
      "60000/60000 [==============================] - 2s 34us/step - loss: 0.0084 - acc: 0.9972 - val_loss: 0.0767 - val_acc: 0.9833\n",
      "Epoch 20/20\n",
      "60000/60000 [==============================] - 2s 34us/step - loss: 0.0068 - acc: 0.9979 - val_loss: 0.0917 - val_acc: 0.9829\n"
     ]
    }
   ],
   "source": [
    "model_assign3.compile(optimizer='adam', loss='categorical_crossentropy', metrics=['accuracy'])\n",
    "\n",
    "history = model_assign3.fit(X_train, Y_train, batch_size=batch_size, epochs=nb_epoch, verbose=1, validation_data=(X_test, Y_test))"
   ]
  },
  {
   "cell_type": "code",
   "execution_count": 62,
   "metadata": {
    "colab": {
     "base_uri": "https://localhost:8080/",
     "height": 317
    },
    "colab_type": "code",
    "id": "6Q6uN_gRObvh",
    "outputId": "5c3d39c1-c722-4747-c710-65a48959ad77"
   },
   "outputs": [
    {
     "name": "stdout",
     "output_type": "stream",
     "text": [
      "Test score: 0.09172725084941308\n",
      "Test accuracy: 0.9829\n"
     ]
    },
    {
     "data": {
      "image/png": "[encoded data removed]",
      "text/plain": [
       "<Figure size 432x288 with 1 Axes>"
      ]
     },
     "metadata": {
      "tags": []
     },
     "output_type": "display_data"
    }
   ],
   "source": [
    "score = model_assign3.evaluate(X_test, Y_test, verbose=0) \n",
    "print('Test score:', score[0]) \n",
    "print('Test accuracy:', score[1])\n",
    "\n",
    "fig,ax = plt.subplots(1,1)\n",
    "ax.set_xlabel('epoch') ; ax.set_ylabel('Categorical Crossentropy Loss')\n",
    "\n",
    "# list of epoch numbers\n",
    "x = list(range(1,nb_epoch+1))\n",
    "\n",
    "# print(history.history.keys())\n",
    "# dict_keys(['val_loss', 'val_acc', 'loss', 'acc'])\n",
    "# history = model_drop.fit(X_train, Y_train, batch_size=batch_size, epochs=nb_epoch, verbose=1, validation_data=(X_test, Y_test))\n",
    "\n",
    "# we will get val_loss and val_acc only when you pass the paramter validation_data\n",
    "# val_loss : validation loss\n",
    "# val_acc : validation accuracy\n",
    "\n",
    "# loss : training loss\n",
    "# acc : train accuracy\n",
    "# for each key in histrory.histrory we will have a list of length equal to number of epochs\n",
    "\n",
    "vy = history.history['val_loss']\n",
    "ty = history.history['loss']\n",
    "plt_dynamic(x, vy, ty, ax)"
   ]
  },
  {
   "cell_type": "markdown",
   "metadata": {
    "colab_type": "raw",
    "id": "LgyTmkYJObvk"
   },
   "source": [
    "5 Layers"
   ]
  },
  {
   "cell_type": "code",
   "execution_count": 63,
   "metadata": {
    "colab": {
     "base_uri": "https://localhost:8080/",
     "height": 340
    },
    "colab_type": "code",
    "id": "v2kTKZPZObvn",
    "outputId": "6a1a2af2-f3e9-492d-8b16-fda134c712c5"
   },
   "outputs": [
    {
     "name": "stdout",
     "output_type": "stream",
     "text": [
      "_________________________________________________________________\n",
      "Layer (type)                 Output Shape              Param #   \n",
      "=================================================================\n",
      "dense_48 (Dense)             (None, 512)               401920    \n",
      "_________________________________________________________________\n",
      "dense_49 (Dense)             (None, 256)               131328    \n",
      "_________________________________________________________________\n",
      "dense_50 (Dense)             (None, 128)               32896     \n",
      "_________________________________________________________________\n",
      "dense_51 (Dense)             (None, 64)                8256      \n",
      "_________________________________________________________________\n",
      "dense_52 (Dense)             (None, 32)                2080      \n",
      "_________________________________________________________________\n",
      "dense_53 (Dense)             (None, 10)                330       \n",
      "=================================================================\n",
      "Total params: 576,810\n",
      "Trainable params: 576,810\n",
      "Non-trainable params: 0\n",
      "_________________________________________________________________\n"
     ]
    }
   ],
   "source": [
    "# https://stackoverflow.com/questions/34716454/where-do-i-call-the-batchnormalization-function-in-keras\n",
    "# Multilayer perceptron\n",
    "\n",
    "# https://intoli.com/blog/neural-network-initialization/ \n",
    "# If we sample weights from a normal distribution N(0,σ) we satisfy this condition with σ=√(2/(ni+ni+1). \n",
    "# h1 =>  σ=√(2/(ni+ni+1) = 0.039  => N(0,σ) = N(0,0.039)\n",
    "# h2 =>  σ=√(2/(ni+ni+1) = 0.055  => N(0,σ) = N(0,0.055)\n",
    "# h1 =>  σ=√(2/(ni+ni+1) = 0.120  => N(0,σ) = N(0,0.120)\n",
    "\n",
    "\n",
    "from keras.layers import Dropout\n",
    "\n",
    "model_assign5 = Sequential()\n",
    "\n",
    "model_assign5.add(Dense(512, activation='relu', input_shape=(input_dim,), kernel_initializer=RandomNormal(mean=0.0, stddev=0.039, seed=None)))\n",
    "\n",
    "model_assign5.add(Dense(256, activation='relu', kernel_initializer=RandomNormal(mean=0.0, stddev=0.051, seed=None)) )\n",
    "\n",
    "model_assign5.add(Dense(128, activation='relu', kernel_initializer=RandomNormal(mean=0.0, stddev=0.072, seed=None)) )\n",
    "\n",
    "model_assign5.add(Dense(64, activation='relu', kernel_initializer=RandomNormal(mean=0.0, stddev=0.10, seed=None)) )\n",
    "\n",
    "model_assign5.add(Dense(32, activation='relu', kernel_initializer=RandomNormal(mean=0.0, stddev=0.144, seed=None)) )\n",
    "\n",
    "model_assign5.add(Dense(output_dim, activation='softmax'))\n",
    "\n",
    "\n",
    "model_assign5.summary()"
   ]
  },
  {
   "cell_type": "code",
   "execution_count": 64,
   "metadata": {
    "colab": {
     "base_uri": "https://localhost:8080/",
     "height": 714
    },
    "colab_type": "code",
    "id": "bnpTfVa6Obvs",
    "outputId": "308ae98d-4bb0-4668-8c47-094e5282a3d4"
   },
   "outputs": [
    {
     "name": "stdout",
     "output_type": "stream",
     "text": [
      "Train on 60000 samples, validate on 10000 samples\n",
      "Epoch 1/20\n",
      "60000/60000 [==============================] - 4s 67us/step - loss: 0.2572 - acc: 0.9217 - val_loss: 0.1074 - val_acc: 0.9669\n",
      "Epoch 2/20\n",
      "60000/60000 [==============================] - 2s 38us/step - loss: 0.0914 - acc: 0.9713 - val_loss: 0.0969 - val_acc: 0.9664\n",
      "Epoch 3/20\n",
      "60000/60000 [==============================] - 2s 38us/step - loss: 0.0617 - acc: 0.9806 - val_loss: 0.0712 - val_acc: 0.9782\n",
      "Epoch 4/20\n",
      "60000/60000 [==============================] - 2s 38us/step - loss: 0.0471 - acc: 0.9852 - val_loss: 0.0796 - val_acc: 0.9769\n",
      "Epoch 5/20\n",
      "60000/60000 [==============================] - 2s 38us/step - loss: 0.0366 - acc: 0.9888 - val_loss: 0.0903 - val_acc: 0.9745\n",
      "Epoch 6/20\n",
      "60000/60000 [==============================] - 2s 38us/step - loss: 0.0332 - acc: 0.9895 - val_loss: 0.0828 - val_acc: 0.9766\n",
      "Epoch 7/20\n",
      "60000/60000 [==============================] - 2s 38us/step - loss: 0.0274 - acc: 0.9916 - val_loss: 0.0801 - val_acc: 0.9785\n",
      "Epoch 8/20\n",
      "60000/60000 [==============================] - 2s 38us/step - loss: 0.0233 - acc: 0.9925 - val_loss: 0.0763 - val_acc: 0.9806\n",
      "Epoch 9/20\n",
      "60000/60000 [==============================] - 2s 38us/step - loss: 0.0203 - acc: 0.9939 - val_loss: 0.0910 - val_acc: 0.9793\n",
      "Epoch 10/20\n",
      "60000/60000 [==============================] - 2s 38us/step - loss: 0.0190 - acc: 0.9940 - val_loss: 0.0978 - val_acc: 0.9784\n",
      "Epoch 11/20\n",
      "60000/60000 [==============================] - 2s 38us/step - loss: 0.0184 - acc: 0.9943 - val_loss: 0.1111 - val_acc: 0.9741\n",
      "Epoch 12/20\n",
      "60000/60000 [==============================] - 2s 38us/step - loss: 0.0146 - acc: 0.9954 - val_loss: 0.0886 - val_acc: 0.9806\n",
      "Epoch 13/20\n",
      "60000/60000 [==============================] - 2s 38us/step - loss: 0.0163 - acc: 0.9947 - val_loss: 0.0835 - val_acc: 0.9832\n",
      "Epoch 14/20\n",
      "60000/60000 [==============================] - 2s 38us/step - loss: 0.0126 - acc: 0.9961 - val_loss: 0.0901 - val_acc: 0.9806\n",
      "Epoch 15/20\n",
      "60000/60000 [==============================] - 2s 38us/step - loss: 0.0132 - acc: 0.9961 - val_loss: 0.0800 - val_acc: 0.9816\n",
      "Epoch 16/20\n",
      "60000/60000 [==============================] - 2s 39us/step - loss: 0.0127 - acc: 0.9963 - val_loss: 0.0900 - val_acc: 0.9823\n",
      "Epoch 17/20\n",
      "60000/60000 [==============================] - 2s 38us/step - loss: 0.0115 - acc: 0.9967 - val_loss: 0.0955 - val_acc: 0.9808\n",
      "Epoch 18/20\n",
      "60000/60000 [==============================] - 2s 38us/step - loss: 0.0125 - acc: 0.9963 - val_loss: 0.0914 - val_acc: 0.9800\n",
      "Epoch 19/20\n",
      "60000/60000 [==============================] - 2s 38us/step - loss: 0.0088 - acc: 0.9974 - val_loss: 0.0976 - val_acc: 0.9801\n",
      "Epoch 20/20\n",
      "60000/60000 [==============================] - 2s 38us/step - loss: 0.0100 - acc: 0.9969 - val_loss: 0.0905 - val_acc: 0.9826\n"
     ]
    }
   ],
   "source": [
    "model_assign5.compile(optimizer='adam', loss='categorical_crossentropy', metrics=['accuracy'])\n",
    "\n",
    "history = model_assign5.fit(X_train, Y_train, batch_size=batch_size, epochs=nb_epoch, verbose=1, validation_data=(X_test, Y_test))"
   ]
  },
  {
   "cell_type": "code",
   "execution_count": 65,
   "metadata": {
    "colab": {
     "base_uri": "https://localhost:8080/",
     "height": 317
    },
    "colab_type": "code",
    "id": "9Ji5OAGAObvz",
    "outputId": "4c70f578-458d-4814-d4b4-f22193e4d37d"
   },
   "outputs": [
    {
     "name": "stdout",
     "output_type": "stream",
     "text": [
      "Test score: 0.0904728904638242\n",
      "Test accuracy: 0.9826\n"
     ]
    },
    {
     "data": {
      "image/png": "[encoded data removed]",
      "text/plain": [
       "<Figure size 432x288 with 1 Axes>"
      ]
     },
     "metadata": {
      "tags": []
     },
     "output_type": "display_data"
    }
   ],
   "source": [
    "score = model_assign5.evaluate(X_test, Y_test, verbose=0) \n",
    "print('Test score:', score[0]) \n",
    "print('Test accuracy:', score[1])\n",
    "\n",
    "fig,ax = plt.subplots(1,1)\n",
    "ax.set_xlabel('epoch') ; ax.set_ylabel('Categorical Crossentropy Loss')\n",
    "\n",
    "# list of epoch numbers\n",
    "x = list(range(1,nb_epoch+1))\n",
    "\n",
    "# print(history.history.keys())\n",
    "# dict_keys(['val_loss', 'val_acc', 'loss', 'acc'])\n",
    "# history = model_drop.fit(X_train, Y_train, batch_size=batch_size, epochs=nb_epoch, verbose=1, validation_data=(X_test, Y_test))\n",
    "\n",
    "# we will get val_loss and val_acc only when you pass the paramter validation_data\n",
    "# val_loss : validation loss\n",
    "# val_acc : validation accuracy\n",
    "\n",
    "# loss : training loss\n",
    "# acc : train accuracy\n",
    "# for each key in histrory.histrory we will have a list of length equal to number of epochs\n",
    "\n",
    "vy = history.history['val_loss']\n",
    "ty = history.history['loss']\n",
    "plt_dynamic(x, vy, ty, ax)"
   ]
  },
  {
   "cell_type": "raw",
   "metadata": {
    "colab": {},
    "colab_type": "code",
    "id": "WoO52lbRObwB"
   },
   "source": [
    "Pretty Table"
   ]
  },
  {
   "cell_type": "code",
   "execution_count": 2,
   "metadata": {},
   "outputs": [
    {
     "name": "stdout",
     "output_type": "stream",
     "text": [
      "+------------------------------+-------------------+---------------+----------+\n",
      "|            Model             | Training accuracy | Test Accuracy | val_loss |\n",
      "+------------------------------+-------------------+---------------+----------+\n",
      "| MLP(BN+Relu+Dropout) 2 layer |       0.977       |      0.98     |  0.0661  |\n",
      "| MLP(BN+Relu+Dropout) 3 layer |       0.978       |      0.98     |  0.0672  |\n",
      "| MLP(BN+Relu+Dropout) 5 layer |       0.9703      |     0.9796    |  0.0864  |\n",
      "|      MLP(Relu) 2 layer       |       0.999       |      0.97     |  0.103   |\n",
      "|      MLP(Relu) 3 layer       |       0.998       |     0.9829    |  0.0917  |\n",
      "|      MLP(Relu) 5 layer       |       0.997       |      0.98     |  0.0905  |\n",
      "+------------------------------+-------------------+---------------+----------+\n"
     ]
    }
   ],
   "source": [
    "# http://zetcode.com/python/prettytable/\n",
    "from prettytable import PrettyTable\n",
    "\n",
    "#If you get a ModuleNotFoundError error , install prettytable using: pip3 install prettytable\n",
    "\n",
    "x = PrettyTable()\n",
    "x.field_names = [\"Model\", \"Training accuracy\", \"Test Accuracy\", \"val_loss\"]\n",
    "\n",
    "x.add_row([\"MLP(BN+Relu+Dropout) 2 layer\", 0.977, 0.98, 0.0661])\n",
    "x.add_row([\"MLP(BN+Relu+Dropout) 3 layer\", 0.978, 0.98, 0.0672])\n",
    "x.add_row([\"MLP(BN+Relu+Dropout) 5 layer\", 0.9703, 0.9796, 0.0864])\n",
    "x.add_row([\"MLP(Relu) 2 layer\", 0.999, 0.97, 0.103])\n",
    "x.add_row([\"MLP(Relu) 3 layer\", 0.998, 0.9829, 0.0917])\n",
    "x.add_row([\"MLP(Relu) 5 layer\", 0.997, 0.98, 0.0905])                 \n",
    "print(x)"
   ]
  },
  {
   "cell_type": "raw",
   "metadata": {},
   "source": [
    "Conclusion"
   ]
  },
  {
   "cell_type": "raw",
   "metadata": {},
   "source": [
    "From the preety table we can observe that\n",
    "1. loss is minimum when model is 2 layer with BN_Relu+Dropout\n",
    "2. model has maximum accuracy when mlp with 2 layer\n",
    "3. when we play with different parameters of mlp like BN Droupout our loss will decrease"
   ]
  },
  {
   "cell_type": "raw",
   "metadata": {},
   "source": [
    "Steps Taken"
   ]
  },
  {
   "cell_type": "raw",
   "metadata": {},
   "source": [
    "1. import the necessary library\n",
    "2. Import mnist dataset\n",
    "3. loading train+ test data mnist\n",
    "4. normalization\n",
    "5. Giving Output a 10 class\n",
    "7. Applying models with different parameters"
   ]
  }
 ],
 "metadata": {
  "accelerator": "GPU",
  "colab": {
   "name": "navneetkumar384@gmail.com_Ann.ipynb",
   "provenance": [],
   "version": "0.3.2"
  },
  "kernelspec": {
   "display_name": "Python 3",
   "language": "python",
   "name": "python3"
  },
  "language_info": {
   "codemirror_mode": {
    "name": "ipython",
    "version": 3
   },
   "file_extension": ".py",
   "mimetype": "text/x-python",
   "name": "python",
   "nbconvert_exporter": "python",
   "pygments_lexer": "ipython3",
   "version": "3.6.5"
  }
 },
 "nbformat": 4,
 "nbformat_minor": 1
}
